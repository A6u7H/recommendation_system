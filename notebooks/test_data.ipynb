{
 "cells": [
  {
   "cell_type": "code",
   "execution_count": 1,
   "id": "542a6405-6292-4fb9-8abc-16707ff311ca",
   "metadata": {},
   "outputs": [],
   "source": [
    "import os\n",
    "import numpy as np\n",
    "import pandas as pd"
   ]
  },
  {
   "cell_type": "code",
   "execution_count": 2,
   "id": "6d754804-32b9-4ea1-974a-f9e2372a578d",
   "metadata": {},
   "outputs": [],
   "source": [
    "data_folder = \"../data/ml-20mx16x32/\"\n",
    "test_fragment = os.path.join(data_folder, \"testx16x32_0.npz\")"
   ]
  },
  {
   "cell_type": "code",
   "execution_count": 3,
   "id": "03fdc9ab-b80b-4d83-b77c-43bef35d4d7e",
   "metadata": {},
   "outputs": [],
   "source": [
    "data = np.load(test_fragment)"
   ]
  },
  {
   "cell_type": "code",
   "execution_count": 4,
   "id": "14d59b4a-482b-44a3-a332-7c87311df1ec",
   "metadata": {},
   "outputs": [
    {
     "data": {
      "text/plain": [
       "['arr_0']"
      ]
     },
     "execution_count": 4,
     "metadata": {},
     "output_type": "execute_result"
    }
   ],
   "source": [
    "data.files"
   ]
  },
  {
   "cell_type": "code",
   "execution_count": 5,
   "id": "487ff123-3f44-4ad2-84d0-6e84a7d21e4a",
   "metadata": {},
   "outputs": [],
   "source": [
    "sample = data[\"arr_0\"][:10000]\n",
    "unique_users = np.unique(sample[:, 0])\n",
    "unique_movie = np.unique(sample[:, 1])"
   ]
  },
  {
   "cell_type": "code",
   "execution_count": 6,
   "id": "2a1b052a-22e9-46eb-9c88-70f5a266d710",
   "metadata": {},
   "outputs": [],
   "source": [
    "old_to_new_user = dict(zip(unique_users, range(len(unique_users))))\n",
    "old_to_new_movie = dict(zip(unique_movie, range(len(unique_movie))))\n",
    "\n",
    "new_to_old_movie = {v : k for k, v in old_to_new_movie.items()}\n",
    "new_to_old_user = {v : k for k, v in old_to_new_user.items()}"
   ]
  },
  {
   "cell_type": "code",
   "execution_count": 7,
   "id": "89a2e459-31d4-437e-aafa-d006b8125a48",
   "metadata": {},
   "outputs": [],
   "source": [
    "user_converter = np.vectorize(lambda x: old_to_new_user[x])\n",
    "movie_converter = np.vectorize(lambda x: old_to_new_movie[x])\n",
    "\n",
    "new_users_id = user_converter(sample[:, 0])\n",
    "new_movie_id = movie_converter(sample[:, 1])\n",
    "\n",
    "generated_data = np.vstack([new_users_id, new_movie_id]).T"
   ]
  },
  {
   "cell_type": "code",
   "execution_count": 12,
   "id": "d22a3700-d752-44ee-9182-43dffb9e9051",
   "metadata": {},
   "outputs": [],
   "source": [
    "generated_df = pd.DataFrame(data=generated_data)\n",
    "generated_df.to_csv(\"../generated.csv\", index=False, sep=\"\\t\")"
   ]
  },
  {
   "cell_type": "code",
   "execution_count": 13,
   "id": "9dc69c1a-6a5d-4fb4-b1be-0b61b9e56d51",
   "metadata": {},
   "outputs": [
    {
     "data": {
      "text/html": [
       "<div>\n",
       "<style scoped>\n",
       "    .dataframe tbody tr th:only-of-type {\n",
       "        vertical-align: middle;\n",
       "    }\n",
       "\n",
       "    .dataframe tbody tr th {\n",
       "        vertical-align: top;\n",
       "    }\n",
       "\n",
       "    .dataframe thead th {\n",
       "        text-align: right;\n",
       "    }\n",
       "</style>\n",
       "<table border=\"1\" class=\"dataframe\">\n",
       "  <thead>\n",
       "    <tr style=\"text-align: right;\">\n",
       "      <th></th>\n",
       "      <th>0</th>\n",
       "      <th>1</th>\n",
       "    </tr>\n",
       "  </thead>\n",
       "  <tbody>\n",
       "    <tr>\n",
       "      <th>0</th>\n",
       "      <td>0</td>\n",
       "      <td>4759</td>\n",
       "    </tr>\n",
       "    <tr>\n",
       "      <th>1</th>\n",
       "      <td>1</td>\n",
       "      <td>3057</td>\n",
       "    </tr>\n",
       "    <tr>\n",
       "      <th>2</th>\n",
       "      <td>2</td>\n",
       "      <td>1723</td>\n",
       "    </tr>\n",
       "    <tr>\n",
       "      <th>3</th>\n",
       "      <td>3</td>\n",
       "      <td>1030</td>\n",
       "    </tr>\n",
       "    <tr>\n",
       "      <th>4</th>\n",
       "      <td>4</td>\n",
       "      <td>794</td>\n",
       "    </tr>\n",
       "    <tr>\n",
       "      <th>...</th>\n",
       "      <td>...</td>\n",
       "      <td>...</td>\n",
       "    </tr>\n",
       "    <tr>\n",
       "      <th>9995</th>\n",
       "      <td>9995</td>\n",
       "      <td>3481</td>\n",
       "    </tr>\n",
       "    <tr>\n",
       "      <th>9996</th>\n",
       "      <td>9996</td>\n",
       "      <td>6400</td>\n",
       "    </tr>\n",
       "    <tr>\n",
       "      <th>9997</th>\n",
       "      <td>9997</td>\n",
       "      <td>5122</td>\n",
       "    </tr>\n",
       "    <tr>\n",
       "      <th>9998</th>\n",
       "      <td>9998</td>\n",
       "      <td>5200</td>\n",
       "    </tr>\n",
       "    <tr>\n",
       "      <th>9999</th>\n",
       "      <td>9999</td>\n",
       "      <td>3273</td>\n",
       "    </tr>\n",
       "  </tbody>\n",
       "</table>\n",
       "<p>10000 rows × 2 columns</p>\n",
       "</div>"
      ],
      "text/plain": [
       "         0     1\n",
       "0        0  4759\n",
       "1        1  3057\n",
       "2        2  1723\n",
       "3        3  1030\n",
       "4        4   794\n",
       "...    ...   ...\n",
       "9995  9995  3481\n",
       "9996  9996  6400\n",
       "9997  9997  5122\n",
       "9998  9998  5200\n",
       "9999  9999  3273\n",
       "\n",
       "[10000 rows x 2 columns]"
      ]
     },
     "execution_count": 13,
     "metadata": {},
     "output_type": "execute_result"
    }
   ],
   "source": [
    "generated_df"
   ]
  },
  {
   "cell_type": "code",
   "execution_count": 15,
   "id": "fed2dbbc-5754-4097-97f6-71e1ac7d1720",
   "metadata": {},
   "outputs": [
    {
     "data": {
      "text/html": [
       "<div>\n",
       "<style scoped>\n",
       "    .dataframe tbody tr th:only-of-type {\n",
       "        vertical-align: middle;\n",
       "    }\n",
       "\n",
       "    .dataframe tbody tr th {\n",
       "        vertical-align: top;\n",
       "    }\n",
       "\n",
       "    .dataframe thead th {\n",
       "        text-align: right;\n",
       "    }\n",
       "</style>\n",
       "<table border=\"1\" class=\"dataframe\">\n",
       "  <thead>\n",
       "    <tr style=\"text-align: right;\">\n",
       "      <th></th>\n",
       "      <th>0</th>\n",
       "      <th>1</th>\n",
       "    </tr>\n",
       "  </thead>\n",
       "  <tbody>\n",
       "    <tr>\n",
       "      <th>0</th>\n",
       "      <td>0</td>\n",
       "      <td>4759</td>\n",
       "    </tr>\n",
       "    <tr>\n",
       "      <th>1</th>\n",
       "      <td>1</td>\n",
       "      <td>3057</td>\n",
       "    </tr>\n",
       "    <tr>\n",
       "      <th>2</th>\n",
       "      <td>2</td>\n",
       "      <td>1723</td>\n",
       "    </tr>\n",
       "    <tr>\n",
       "      <th>3</th>\n",
       "      <td>3</td>\n",
       "      <td>1030</td>\n",
       "    </tr>\n",
       "    <tr>\n",
       "      <th>4</th>\n",
       "      <td>4</td>\n",
       "      <td>794</td>\n",
       "    </tr>\n",
       "    <tr>\n",
       "      <th>...</th>\n",
       "      <td>...</td>\n",
       "      <td>...</td>\n",
       "    </tr>\n",
       "    <tr>\n",
       "      <th>9995</th>\n",
       "      <td>9995</td>\n",
       "      <td>3481</td>\n",
       "    </tr>\n",
       "    <tr>\n",
       "      <th>9996</th>\n",
       "      <td>9996</td>\n",
       "      <td>6400</td>\n",
       "    </tr>\n",
       "    <tr>\n",
       "      <th>9997</th>\n",
       "      <td>9997</td>\n",
       "      <td>5122</td>\n",
       "    </tr>\n",
       "    <tr>\n",
       "      <th>9998</th>\n",
       "      <td>9998</td>\n",
       "      <td>5200</td>\n",
       "    </tr>\n",
       "    <tr>\n",
       "      <th>9999</th>\n",
       "      <td>9999</td>\n",
       "      <td>3273</td>\n",
       "    </tr>\n",
       "  </tbody>\n",
       "</table>\n",
       "<p>10000 rows × 2 columns</p>\n",
       "</div>"
      ],
      "text/plain": [
       "         0     1\n",
       "0        0  4759\n",
       "1        1  3057\n",
       "2        2  1723\n",
       "3        3  1030\n",
       "4        4   794\n",
       "...    ...   ...\n",
       "9995  9995  3481\n",
       "9996  9996  6400\n",
       "9997  9997  5122\n",
       "9998  9998  5200\n",
       "9999  9999  3273\n",
       "\n",
       "[10000 rows x 2 columns]"
      ]
     },
     "execution_count": 15,
     "metadata": {},
     "output_type": "execute_result"
    }
   ],
   "source": [
    "generated_df = pd.read_csv(\"../generated.csv\", sep=\"\\t\")\n",
    "generated_df"
   ]
  },
  {
   "cell_type": "code",
   "execution_count": null,
   "id": "639be681-4f8f-448f-94f7-13eb9ca49ff7",
   "metadata": {},
   "outputs": [],
   "source": []
  },
  {
   "cell_type": "code",
   "execution_count": null,
   "id": "001b17d9-c6c0-43c9-a719-a26245ec5bb8",
   "metadata": {},
   "outputs": [],
   "source": []
  }
 ],
 "metadata": {
  "kernelspec": {
   "display_name": "Python 3 (ipykernel)",
   "language": "python",
   "name": "python3"
  },
  "language_info": {
   "codemirror_mode": {
    "name": "ipython",
    "version": 3
   },
   "file_extension": ".py",
   "mimetype": "text/x-python",
   "name": "python",
   "nbconvert_exporter": "python",
   "pygments_lexer": "ipython3",
   "version": "3.9.15"
  }
 },
 "nbformat": 4,
 "nbformat_minor": 5
}
