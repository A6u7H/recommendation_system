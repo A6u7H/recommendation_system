{
 "cells": [
  {
   "cell_type": "code",
   "execution_count": 1,
   "id": "542a6405-6292-4fb9-8abc-16707ff311ca",
   "metadata": {},
   "outputs": [],
   "source": [
    "import os\n",
    "import random\n",
    "import numpy as np\n",
    "import pandas as pd\n",
    "\n",
    "from tqdm import tqdm"
   ]
  },
  {
   "cell_type": "code",
   "execution_count": 2,
   "id": "6d754804-32b9-4ea1-974a-f9e2372a578d",
   "metadata": {},
   "outputs": [],
   "source": [
    "data_folder = \"../data/ml-20mx16x32/\""
   ]
  },
  {
   "cell_type": "code",
   "execution_count": 13,
   "id": "6664573e-b42c-4887-9338-75b3aafc86a5",
   "metadata": {},
   "outputs": [
    {
     "name": "stderr",
     "output_type": "stream",
     "text": [
      "100%|████████████████████████████████████████████████████████████████████████████████| 32/32 [00:25<00:00,  1.24it/s]\n"
     ]
    }
   ],
   "source": [
    "all_data =[] \n",
    "for file in tqdm(os.listdir(data_folder)):\n",
    "    if file.split('x')[0] == 'train':\n",
    "        data = np.load(os.path.join(data_folder, file), mmap_mode='r')\n",
    "        for row in data['arr_0'][:10]:\n",
    "            line = list(row)\n",
    "            all_data.append(line)"
   ]
  },
  {
   "cell_type": "code",
   "execution_count": 14,
   "id": "4df699ae-b5d8-46c4-8890-d1b909b069b2",
   "metadata": {},
   "outputs": [],
   "source": [
    "sample = np.array(all_data)"
   ]
  },
  {
   "cell_type": "code",
   "execution_count": 15,
   "id": "487ff123-3f44-4ad2-84d0-6e84a7d21e4a",
   "metadata": {},
   "outputs": [],
   "source": [
    "unique_users = np.unique(sample[:, 0])\n",
    "unique_movie = np.unique(sample[:, 1])"
   ]
  },
  {
   "cell_type": "code",
   "execution_count": 16,
   "id": "2a1b052a-22e9-46eb-9c88-70f5a266d710",
   "metadata": {},
   "outputs": [],
   "source": [
    "old_to_new_user = dict(zip(unique_users, range(len(unique_users))))\n",
    "old_to_new_movie = dict(zip(unique_movie, range(len(unique_movie))))\n",
    "\n",
    "new_to_old_movie = {v : k for k, v in old_to_new_movie.items()}\n",
    "new_to_old_user = {v : k for k, v in old_to_new_user.items()}"
   ]
  },
  {
   "cell_type": "code",
   "execution_count": 17,
   "id": "89a2e459-31d4-437e-aafa-d006b8125a48",
   "metadata": {},
   "outputs": [],
   "source": [
    "user_converter = np.vectorize(lambda x: old_to_new_user[x])\n",
    "movie_converter = np.vectorize(lambda x: old_to_new_movie[x])\n",
    "\n",
    "new_users_id = user_converter(sample[:, 0])\n",
    "new_movie_id = movie_converter(sample[:, 1])\n",
    "\n",
    "generated_data = np.vstack([new_users_id, new_movie_id]).T"
   ]
  },
  {
   "cell_type": "code",
   "execution_count": 18,
   "id": "2305296d-22a1-457b-b78e-826da0e02cc1",
   "metadata": {},
   "outputs": [
    {
     "data": {
      "text/plain": [
       "array([ 37,  49,  64,  83,  87,  94,  96, 100, 105, 121,  38,  54,  58,\n",
       "        60,  62,  91,  92, 101, 105, 117,   3,   5,   7,   8,  11,  13,\n",
       "        18,  22,  27,  28,   1,  52, 107, 140, 146, 149, 150, 151, 155,\n",
       "       157,   9,  10,  43,  45,  48,  63,  66,  68,  71,  72,  15,  44,\n",
       "        67,  74,  78,  80,  93, 102, 122, 124,  26,  31,  41,  51,  75,\n",
       "        81,  84,  85, 103, 104,  19,  21,  32,  39,  42,  46,  47,  55,\n",
       "        56,  57, 116, 127, 132, 134, 137, 139, 141, 142, 143, 144,   4,\n",
       "         6,  12,  14,  16,  18,  20,  29,  30,  36,  17,  24,  33,  50,\n",
       "        53,  59,  77,  89,  90,  95,  82,  86,  88,  97,  98,  99, 115,\n",
       "       119, 120, 125,   0,  23,  25,  34,  61,  69,  70,  73,  76,  79,\n",
       "       108, 118, 123, 126, 129, 130, 131, 135, 136, 138,   2,  35,  40,\n",
       "       106, 109, 111, 112, 113, 114, 128,  65, 110, 133, 145, 147, 148,\n",
       "       152, 153, 154, 156])"
      ]
     },
     "execution_count": 18,
     "metadata": {},
     "output_type": "execute_result"
    }
   ],
   "source": [
    "new_movie_id"
   ]
  },
  {
   "cell_type": "code",
   "execution_count": 19,
   "id": "d22a3700-d752-44ee-9182-43dffb9e9051",
   "metadata": {},
   "outputs": [],
   "source": [
    "generated_df = pd.DataFrame(data=generated_data)\n",
    "generated_df.to_csv(\"../generated.csv\", index=False, sep=\"\\t\")"
   ]
  },
  {
   "cell_type": "code",
   "execution_count": 20,
   "id": "9dc69c1a-6a5d-4fb4-b1be-0b61b9e56d51",
   "metadata": {},
   "outputs": [
    {
     "data": {
      "text/html": [
       "<div>\n",
       "<style scoped>\n",
       "    .dataframe tbody tr th:only-of-type {\n",
       "        vertical-align: middle;\n",
       "    }\n",
       "\n",
       "    .dataframe tbody tr th {\n",
       "        vertical-align: top;\n",
       "    }\n",
       "\n",
       "    .dataframe thead th {\n",
       "        text-align: right;\n",
       "    }\n",
       "</style>\n",
       "<table border=\"1\" class=\"dataframe\">\n",
       "  <thead>\n",
       "    <tr style=\"text-align: right;\">\n",
       "      <th></th>\n",
       "      <th>0</th>\n",
       "      <th>1</th>\n",
       "    </tr>\n",
       "  </thead>\n",
       "  <tbody>\n",
       "    <tr>\n",
       "      <th>0</th>\n",
       "      <td>11</td>\n",
       "      <td>37</td>\n",
       "    </tr>\n",
       "    <tr>\n",
       "      <th>1</th>\n",
       "      <td>11</td>\n",
       "      <td>49</td>\n",
       "    </tr>\n",
       "    <tr>\n",
       "      <th>2</th>\n",
       "      <td>11</td>\n",
       "      <td>64</td>\n",
       "    </tr>\n",
       "    <tr>\n",
       "      <th>3</th>\n",
       "      <td>11</td>\n",
       "      <td>83</td>\n",
       "    </tr>\n",
       "    <tr>\n",
       "      <th>4</th>\n",
       "      <td>11</td>\n",
       "      <td>87</td>\n",
       "    </tr>\n",
       "    <tr>\n",
       "      <th>...</th>\n",
       "      <td>...</td>\n",
       "      <td>...</td>\n",
       "    </tr>\n",
       "    <tr>\n",
       "      <th>155</th>\n",
       "      <td>5</td>\n",
       "      <td>148</td>\n",
       "    </tr>\n",
       "    <tr>\n",
       "      <th>156</th>\n",
       "      <td>5</td>\n",
       "      <td>152</td>\n",
       "    </tr>\n",
       "    <tr>\n",
       "      <th>157</th>\n",
       "      <td>5</td>\n",
       "      <td>153</td>\n",
       "    </tr>\n",
       "    <tr>\n",
       "      <th>158</th>\n",
       "      <td>5</td>\n",
       "      <td>154</td>\n",
       "    </tr>\n",
       "    <tr>\n",
       "      <th>159</th>\n",
       "      <td>5</td>\n",
       "      <td>156</td>\n",
       "    </tr>\n",
       "  </tbody>\n",
       "</table>\n",
       "<p>160 rows × 2 columns</p>\n",
       "</div>"
      ],
      "text/plain": [
       "      0    1\n",
       "0    11   37\n",
       "1    11   49\n",
       "2    11   64\n",
       "3    11   83\n",
       "4    11   87\n",
       "..   ..  ...\n",
       "155   5  148\n",
       "156   5  152\n",
       "157   5  153\n",
       "158   5  154\n",
       "159   5  156\n",
       "\n",
       "[160 rows x 2 columns]"
      ]
     },
     "execution_count": 20,
     "metadata": {},
     "output_type": "execute_result"
    }
   ],
   "source": [
    "generated_df"
   ]
  },
  {
   "cell_type": "code",
   "execution_count": 21,
   "id": "fed2dbbc-5754-4097-97f6-71e1ac7d1720",
   "metadata": {},
   "outputs": [
    {
     "data": {
      "text/html": [
       "<div>\n",
       "<style scoped>\n",
       "    .dataframe tbody tr th:only-of-type {\n",
       "        vertical-align: middle;\n",
       "    }\n",
       "\n",
       "    .dataframe tbody tr th {\n",
       "        vertical-align: top;\n",
       "    }\n",
       "\n",
       "    .dataframe thead th {\n",
       "        text-align: right;\n",
       "    }\n",
       "</style>\n",
       "<table border=\"1\" class=\"dataframe\">\n",
       "  <thead>\n",
       "    <tr style=\"text-align: right;\">\n",
       "      <th></th>\n",
       "      <th>0</th>\n",
       "      <th>1</th>\n",
       "    </tr>\n",
       "  </thead>\n",
       "  <tbody>\n",
       "    <tr>\n",
       "      <th>0</th>\n",
       "      <td>11</td>\n",
       "      <td>37</td>\n",
       "    </tr>\n",
       "    <tr>\n",
       "      <th>1</th>\n",
       "      <td>11</td>\n",
       "      <td>49</td>\n",
       "    </tr>\n",
       "    <tr>\n",
       "      <th>2</th>\n",
       "      <td>11</td>\n",
       "      <td>64</td>\n",
       "    </tr>\n",
       "    <tr>\n",
       "      <th>3</th>\n",
       "      <td>11</td>\n",
       "      <td>83</td>\n",
       "    </tr>\n",
       "    <tr>\n",
       "      <th>4</th>\n",
       "      <td>11</td>\n",
       "      <td>87</td>\n",
       "    </tr>\n",
       "    <tr>\n",
       "      <th>...</th>\n",
       "      <td>...</td>\n",
       "      <td>...</td>\n",
       "    </tr>\n",
       "    <tr>\n",
       "      <th>155</th>\n",
       "      <td>5</td>\n",
       "      <td>148</td>\n",
       "    </tr>\n",
       "    <tr>\n",
       "      <th>156</th>\n",
       "      <td>5</td>\n",
       "      <td>152</td>\n",
       "    </tr>\n",
       "    <tr>\n",
       "      <th>157</th>\n",
       "      <td>5</td>\n",
       "      <td>153</td>\n",
       "    </tr>\n",
       "    <tr>\n",
       "      <th>158</th>\n",
       "      <td>5</td>\n",
       "      <td>154</td>\n",
       "    </tr>\n",
       "    <tr>\n",
       "      <th>159</th>\n",
       "      <td>5</td>\n",
       "      <td>156</td>\n",
       "    </tr>\n",
       "  </tbody>\n",
       "</table>\n",
       "<p>160 rows × 2 columns</p>\n",
       "</div>"
      ],
      "text/plain": [
       "      0    1\n",
       "0    11   37\n",
       "1    11   49\n",
       "2    11   64\n",
       "3    11   83\n",
       "4    11   87\n",
       "..   ..  ...\n",
       "155   5  148\n",
       "156   5  152\n",
       "157   5  153\n",
       "158   5  154\n",
       "159   5  156\n",
       "\n",
       "[160 rows x 2 columns]"
      ]
     },
     "execution_count": 21,
     "metadata": {},
     "output_type": "execute_result"
    }
   ],
   "source": [
    "generated_df = pd.read_csv(\"../generated.csv\", sep=\"\\t\")\n",
    "generated_df"
   ]
  }
 ],
 "metadata": {
  "kernelspec": {
   "display_name": "Python 3 (ipykernel)",
   "language": "python",
   "name": "python3"
  },
  "language_info": {
   "codemirror_mode": {
    "name": "ipython",
    "version": 3
   },
   "file_extension": ".py",
   "mimetype": "text/x-python",
   "name": "python",
   "nbconvert_exporter": "python",
   "pygments_lexer": "ipython3",
   "version": "3.9.15"
  }
 },
 "nbformat": 4,
 "nbformat_minor": 5
}
